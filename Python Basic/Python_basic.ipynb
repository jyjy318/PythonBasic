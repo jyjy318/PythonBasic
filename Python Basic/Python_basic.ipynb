{
  "nbformat": 4,
  "nbformat_minor": 0,
  "metadata": {
    "colab": {
      "name": "Python basic ",
      "provenance": [],
      "collapsed_sections": [],
      "toc_visible": true
    },
    "kernelspec": {
      "name": "python3",
      "display_name": "Python 3"
    }
  },
  "cells": [
    {
      "cell_type": "markdown",
      "metadata": {
        "id": "AlLiod3FTZyJ"
      },
      "source": [
        "# 기본출력\r\n",
        "기본 print문으로 원하는 문장을 출력할 수 있다. "
      ]
    },
    {
      "cell_type": "code",
      "metadata": {
        "colab": {
          "base_uri": "https://localhost:8080/"
        },
        "id": "Kp_YFT3Bt68B",
        "outputId": "2358c21a-bd33-4875-f670-fa5d484e6b0e"
      },
      "source": [
        "print(\"Hello\")\r\n",
        "print(\"'Hello\")\r\n",
        "name = \"김갹갹\"\r\n",
        "print(name)"
      ],
      "execution_count": null,
      "outputs": [
        {
          "output_type": "stream",
          "text": [
            "Hello\n",
            "'Hello\n",
            "김갹갹\n"
          ],
          "name": "stdout"
        }
      ]
    },
    {
      "cell_type": "markdown",
      "metadata": {
        "id": "RP0_842atirQ"
      },
      "source": [
        "# 입력받기\r\n",
        "input()을 통해서 문자나 숫자를 입력받는다. "
      ]
    },
    {
      "cell_type": "code",
      "metadata": {
        "colab": {
          "base_uri": "https://localhost:8080/"
        },
        "id": "ceQdrgpSth8R",
        "outputId": "45e21878-fc3c-45af-b4ff-9431e8eb3e63"
      },
      "source": [
        "#문자 입력받기\r\n",
        "a = input(\"아무말이나 입력하세요 :\")\r\n",
        "print(a)\r\n",
        "# 문자로 입력받아서 정수로 변환하기\r\n",
        "b = int(input(\"아무 숫자나 입력하세요 : \"))\r\n",
        "print(b)"
      ],
      "execution_count": null,
      "outputs": [
        {
          "output_type": "stream",
          "text": [
            "아무말이나 입력하세요 :안녕하세요\n",
            "안녕하세요\n",
            "아무 숫자나 입력하세요 : 99\n",
            "99\n"
          ],
          "name": "stdout"
        }
      ]
    },
    {
      "cell_type": "markdown",
      "metadata": {
        "id": "bVd-KSlNTfLI"
      },
      "source": [
        "# Format 사용하기\r\n",
        "print문 대신에 format을 사용하여 원하는 문장을 출력할 수도 있다. "
      ]
    },
    {
      "cell_type": "code",
      "metadata": {
        "colab": {
          "base_uri": "https://localhost:8080/"
        },
        "id": "kjuJ8DuM7enn",
        "outputId": "f3fe1063-2a02-435a-dd3c-66268368556c"
      },
      "source": [
        "print(\"{} is {}\".format('python', 'easy'))\r\n",
        "print('{0} is {1}'.format('python', 'easy'))"
      ],
      "execution_count": null,
      "outputs": [
        {
          "output_type": "stream",
          "text": [
            "python is easy\n",
            "python is easy\n"
          ],
          "name": "stdout"
        }
      ]
    },
    {
      "cell_type": "markdown",
      "metadata": {
        "id": "KETpOqXrTlz4"
      },
      "source": [
        "# 조건문\r\n",
        "특정 조건을 만족하면, 조건에 맞는 함수를 실행한다."
      ]
    },
    {
      "cell_type": "code",
      "metadata": {
        "colab": {
          "base_uri": "https://localhost:8080/"
        },
        "id": "ZYwc8JXJHsIA",
        "outputId": "756b25ba-25f6-43ea-e86b-7dae84fb42ed"
      },
      "source": [
        "status = input((\"success, fail, 중 입력하세요 : \"))\r\n",
        "\r\n",
        "if status == \"success\":\r\n",
        "  print(\"합격\")\r\n",
        "elif status == \"fail\":\r\n",
        "  print(\"불합격\")\r\n",
        "else:\r\n",
        "  print(\"다시\")"
      ],
      "execution_count": null,
      "outputs": [
        {
          "output_type": "stream",
          "text": [
            "success, fail, 중 입력하세요 : success\n",
            "합격\n"
          ],
          "name": "stdout"
        }
      ]
    },
    {
      "cell_type": "markdown",
      "metadata": {
        "id": "6NMMxLDcTpJg"
      },
      "source": [
        "# 반복문\r\n",
        "제시된 반복횟수만큼, 그리고 조건에 따라서 함수를 실행한다. "
      ]
    },
    {
      "cell_type": "code",
      "metadata": {
        "colab": {
          "base_uri": "https://localhost:8080/"
        },
        "id": "f6RYjyNNNIS_",
        "outputId": "63a83d6a-0926-4314-fbe2-735cae507839"
      },
      "source": [
        "for i in range(1,10):\r\n",
        "  for j in range(1,10):\r\n",
        "    print(i,\"*\",j,\"=\",i*j)"
      ],
      "execution_count": null,
      "outputs": [
        {
          "output_type": "stream",
          "text": [
            "1 * 1 = 1\n",
            "1 * 2 = 2\n",
            "1 * 3 = 3\n",
            "1 * 4 = 4\n",
            "1 * 5 = 5\n",
            "1 * 6 = 6\n",
            "1 * 7 = 7\n",
            "1 * 8 = 8\n",
            "1 * 9 = 9\n",
            "2 * 1 = 2\n",
            "2 * 2 = 4\n",
            "2 * 3 = 6\n",
            "2 * 4 = 8\n",
            "2 * 5 = 10\n",
            "2 * 6 = 12\n",
            "2 * 7 = 14\n",
            "2 * 8 = 16\n",
            "2 * 9 = 18\n",
            "3 * 1 = 3\n",
            "3 * 2 = 6\n",
            "3 * 3 = 9\n",
            "3 * 4 = 12\n",
            "3 * 5 = 15\n",
            "3 * 6 = 18\n",
            "3 * 7 = 21\n",
            "3 * 8 = 24\n",
            "3 * 9 = 27\n",
            "4 * 1 = 4\n",
            "4 * 2 = 8\n",
            "4 * 3 = 12\n",
            "4 * 4 = 16\n",
            "4 * 5 = 20\n",
            "4 * 6 = 24\n",
            "4 * 7 = 28\n",
            "4 * 8 = 32\n",
            "4 * 9 = 36\n",
            "5 * 1 = 5\n",
            "5 * 2 = 10\n",
            "5 * 3 = 15\n",
            "5 * 4 = 20\n",
            "5 * 5 = 25\n",
            "5 * 6 = 30\n",
            "5 * 7 = 35\n",
            "5 * 8 = 40\n",
            "5 * 9 = 45\n",
            "6 * 1 = 6\n",
            "6 * 2 = 12\n",
            "6 * 3 = 18\n",
            "6 * 4 = 24\n",
            "6 * 5 = 30\n",
            "6 * 6 = 36\n",
            "6 * 7 = 42\n",
            "6 * 8 = 48\n",
            "6 * 9 = 54\n",
            "7 * 1 = 7\n",
            "7 * 2 = 14\n",
            "7 * 3 = 21\n",
            "7 * 4 = 28\n",
            "7 * 5 = 35\n",
            "7 * 6 = 42\n",
            "7 * 7 = 49\n",
            "7 * 8 = 56\n",
            "7 * 9 = 63\n",
            "8 * 1 = 8\n",
            "8 * 2 = 16\n",
            "8 * 3 = 24\n",
            "8 * 4 = 32\n",
            "8 * 5 = 40\n",
            "8 * 6 = 48\n",
            "8 * 7 = 56\n",
            "8 * 8 = 64\n",
            "8 * 9 = 72\n",
            "9 * 1 = 9\n",
            "9 * 2 = 18\n",
            "9 * 3 = 27\n",
            "9 * 4 = 36\n",
            "9 * 5 = 45\n",
            "9 * 6 = 54\n",
            "9 * 7 = 63\n",
            "9 * 8 = 72\n",
            "9 * 9 = 81\n"
          ],
          "name": "stdout"
        }
      ]
    },
    {
      "cell_type": "markdown",
      "metadata": {
        "id": "ICC9-u-zTxfo"
      },
      "source": [
        "# 함수\r\n",
        "매번 실행하기 귀찮거나 어려울때, 그리고 특정 동작을 수행하고 싶을때, python 함수를 작성하여 실행한다. "
      ]
    },
    {
      "cell_type": "code",
      "metadata": {
        "colab": {
          "base_uri": "https://localhost:8080/"
        },
        "id": "FaOp-ET8Ng9o",
        "outputId": "a3522580-8eea-4af1-8e9f-002876153ee8"
      },
      "source": [
        "#인사말을 출력하는 greet함수\r\n",
        "#작성\r\n",
        "def greet():\r\n",
        "  print(\"Hello. Good morning\")\r\n",
        "#함수 실행\r\n",
        "greet()"
      ],
      "execution_count": null,
      "outputs": [
        {
          "output_type": "stream",
          "text": [
            "Hello. Good morning\n"
          ],
          "name": "stdout"
        }
      ]
    },
    {
      "cell_type": "markdown",
      "metadata": {
        "id": "i_k15bZ9TFGy"
      },
      "source": [
        "# 데이터 타입 및 리스트, 튜플, 셋의 차이점\r\n",
        "**리스트** :  요소를 삭제하거나 변경할 수 있다. append, remove등으로 요소를 삭제할 수 있다. <br/>\r\n",
        "**튜플** : 요소를 삭제하거나 변경할 수 없다. 튜플 + 튜플로 합칠 수 있으나 리스트처럼 index를 활용하여 요소를 변경 또는 삭제, 추가 할 수 없다. <br/>\r\n",
        "**셋(set)** : 리스트와 튜플과는 다르게 중복이 불가능하다. "
      ]
    },
    {
      "cell_type": "code",
      "metadata": {
        "colab": {
          "base_uri": "https://localhost:8080/"
        },
        "id": "sCFul_YJQqSn",
        "outputId": "b80f4483-e4a0-47dd-c4b3-06f76b48c3ed"
      },
      "source": [
        "#데이터타입\r\n",
        "print(type(13)) #정수\r\n",
        "print(type(3.14)) #실수\r\n",
        "print(type(True)) #불린\r\n",
        "print(type(\"Hello\")) #문자열\r\n",
        "print(type(['A', 'B'])) #리스트\r\n",
        "print(type(('a', 'b'))) #튜플\r\n",
        "print(type({'가격' : 3500, '종류' : '과일'})) #딕셔너리\r\n",
        "print(type({'a', 'b', 'c'})) #셋"
      ],
      "execution_count": null,
      "outputs": [
        {
          "output_type": "stream",
          "text": [
            "<class 'int'>\n",
            "<class 'float'>\n",
            "<class 'bool'>\n",
            "<class 'str'>\n",
            "<class 'list'>\n",
            "<class 'tuple'>\n",
            "<class 'dict'>\n",
            "<class 'set'>\n"
          ],
          "name": "stdout"
        }
      ]
    },
    {
      "cell_type": "markdown",
      "metadata": {
        "id": "D0dsDVF9WII5"
      },
      "source": [
        "# 데이터 선언 및 연산"
      ]
    },
    {
      "cell_type": "code",
      "metadata": {
        "id": "JPQosxIQWMZX"
      },
      "source": [
        "inta = 90\r\n",
        "f1 = 0.1\r\n",
        "\r\n",
        "\r\n",
        "# 정수 출력\r\n",
        "print(i)\r\n",
        "print(i2)\r\n",
        "print(big_int)\r\n",
        "\r\n",
        "# 실수 선언\r\n",
        "f = 0.9999\r\n",
        "f2 = 3.141592\r\n",
        "f3 = -3.9\r\n",
        "f4 = 3 / 9\r\n",
        "\r\n",
        "# 실수 출력\r\n",
        "print(f)\r\n",
        "print(f2)\r\n",
        "print(f3)\r\n",
        "print(f4)\r\n",
        "\r\n"
      ],
      "execution_count": null,
      "outputs": []
    },
    {
      "cell_type": "markdown",
      "metadata": {
        "id": "HBNZp7Rm1fMx"
      },
      "source": [
        "# Map함수  및 lambda\r\n",
        "***[lambda]***<br/>\r\n",
        "기본적인 함수의 구조는 다음과 같다.\r\n",
        "\r\n",
        "```\r\n",
        "def 함수이름(매개변수):\r\n",
        "    return 결과\r\n",
        "```\r\n",
        "그러나 labmda함수는 이를 간편하게 나타낼 수 있다.\r\n",
        "```\r\n",
        "lambda 매개변수, 결과\r\n",
        "```\r\n",
        "***[Map]***<br/>\r\n",
        "반복가능한 iterable 객체를 받아서, 각 요소에 함수를 적용시켜주는 것 \r\n",
        "\r\n",
        "\r\n",
        "```\r\n",
        "map(적용시킬함수, 적용요소)\r\n",
        "```\r\n",
        "\r\n"
      ]
    },
    {
      "cell_type": "code",
      "metadata": {
        "colab": {
          "base_uri": "https://localhost:8080/"
        },
        "id": "7d54zHWA3LJR",
        "outputId": "5e9f4397-5764-4936-fde7-895b97af17ae"
      },
      "source": [
        "#간단한 lambda함수 사용하기\r\n",
        "(lambda x,y:x*y)(10,20)"
      ],
      "execution_count": null,
      "outputs": [
        {
          "output_type": "execute_result",
          "data": {
            "text/plain": [
              "200"
            ]
          },
          "metadata": {
            "tags": []
          },
          "execution_count": 2
        }
      ]
    },
    {
      "cell_type": "code",
      "metadata": {
        "colab": {
          "base_uri": "https://localhost:8080/"
        },
        "id": "RAk0Q7gO9D9x",
        "outputId": "9b234c4a-9c46-4e3b-b736-e0a66850b2db"
      },
      "source": [
        "#매개변수로 함수도 호출할 수 있다. \r\n",
        "#None이 뜨는 이유는 함수에서 print할것이 없기 때문이다. \r\n",
        "def final(x, y, func):\r\n",
        "    print(x * y * func(100))\r\n",
        "#여기서 lambda실행 \r\n",
        "print(final(10,10,lambda x : x*1000))"
      ],
      "execution_count": null,
      "outputs": [
        {
          "output_type": "stream",
          "text": [
            "10000000\n",
            "None\n"
          ],
          "name": "stdout"
        }
      ]
    },
    {
      "cell_type": "code",
      "metadata": {
        "colab": {
          "base_uri": "https://localhost:8080/"
        },
        "id": "6bGUb_2A_vAj",
        "outputId": "0d5b925f-792b-40e8-b699-617afe4876ac"
      },
      "source": [
        "#map함수 사용하기\r\n",
        "def add_number(a):\r\n",
        "      return a + 10\r\n",
        "\r\n",
        "b = [1, 2, 3, 4, 5, 6, 7, 8, 9, 10]\r\n",
        "c = map(add_number, b)\r\n",
        "print(list(c)) "
      ],
      "execution_count": null,
      "outputs": [
        {
          "output_type": "stream",
          "text": [
            "[11, 12, 13, 14, 15, 16, 17, 18, 19, 20]\n"
          ],
          "name": "stdout"
        }
      ]
    },
    {
      "cell_type": "code",
      "metadata": {
        "colab": {
          "base_uri": "https://localhost:8080/"
        },
        "id": "yh0gmNic_CEp",
        "outputId": "69601254-937a-44a4-862e-e4ff8f762d74"
      },
      "source": [
        "#map과 lambda함께 사용하기\r\n",
        "a = [1, 2, 3, 4, 5, 6, 7, 8, 9, 10]\r\n",
        "b = map(lambda x : x+10, a)\r\n",
        "print(list(b))"
      ],
      "execution_count": null,
      "outputs": [
        {
          "output_type": "stream",
          "text": [
            "[11, 12, 13, 14, 15, 16, 17, 18, 19, 20]\n"
          ],
          "name": "stdout"
        }
      ]
    },
    {
      "cell_type": "markdown",
      "metadata": {
        "id": "YKi_3XWUAP3C"
      },
      "source": [
        "# 파일 열고 읽기\r\n",
        "음성데이터의 경우 csv대신 txt파일로 분석을 진행하는 경우, 분석 결과를 txt로 저장하는 경우가 있음.<br/>\r\n",
        "다음 코드들은 txt파일을 불러와서 읽고, 쓰고 저장하는 등의 여러가지 처리방법"
      ]
    },
    {
      "cell_type": "code",
      "metadata": {
        "colab": {
          "base_uri": "https://localhost:8080/"
        },
        "id": "KsTbqEGa8tPz",
        "outputId": "b3be96f8-52ad-4556-d002-c7831015fb18"
      },
      "source": [
        "#txt 파일 읽어오기\r\n",
        "f = open('/content/drive/MyDrive/test.txt', 'r')\r\n",
        "read = f.read()\r\n",
        "print(read)"
      ],
      "execution_count": 16,
      "outputs": [
        {
          "output_type": "stream",
          "text": [
            "Today, Big data and AI are used in almost every field, and the technology is growing rapidly. \n",
            "For Big data and AI, the data to be learned is very important. \n",
            "When using existing data as the data to be learned, the vast amount of data and the actual information are utilized, so we can generally produce accurate results. \n",
            "However, in certain areas, the vicious cycle can be repeated as a result because sex discrimination and racial discrimination from existing data are learned together. \n",
            "As AI and big data developed, these problems became important issues.\n",
            " I think it is more efficient to use existing data for several reasons on these issues.\n"
          ],
          "name": "stdout"
        }
      ]
    },
    {
      "cell_type": "code",
      "metadata": {
        "colab": {
          "base_uri": "https://localhost:8080/"
        },
        "id": "7aIIaVeZAnf0",
        "outputId": "53fccd9f-55cb-4b78-e37e-4c01405944ab"
      },
      "source": [
        "# 줄마다 읽어오기\r\n",
        "# 원래 txt파일이 줄마다 enter처리 되어있어서 위에와 차이 없음 \r\n",
        "# end에 :를 넣어서 readline위치 확인하기\r\n",
        "with open('/content/drive/MyDrive/test.txt', 'r') as file:\r\n",
        "    a = file.readline()\r\n",
        "    while a:\r\n",
        "        print(a, end=';')\r\n",
        "        a = file.readline()"
      ],
      "execution_count": 32,
      "outputs": [
        {
          "output_type": "stream",
          "text": [
            "Today, Big data and AI are used in almost every field, and the technology is growing rapidly. \n",
            ";For Big data and AI, the data to be learned is very important. \n",
            ";When using existing data as the data to be learned, the vast amount of data and the actual information are utilized, so we can generally produce accurate results. \n",
            ";However, in certain areas, the vicious cycle can be repeated as a result because sex discrimination and racial discrimination from existing data are learned together. \n",
            ";As AI and big data developed, these problems became important issues.\n",
            "; I think it is more efficient to use existing data for several reasons on these issues.;"
          ],
          "name": "stdout"
        }
      ]
    },
    {
      "cell_type": "code",
      "metadata": {
        "colab": {
          "base_uri": "https://localhost:8080/"
        },
        "id": "SxkVhibYie_q",
        "outputId": "84ffad53-a862-4cb1-b314-dae07a274d3e"
      },
      "source": [
        "#txt파일 내 숫자들 평균 구하기 \r\n",
        "with open('/content/drive/MyDrive/number.txt', 'r') as file:\r\n",
        "    number = [] #숫자들을 저장할 빈 리스트 만들기\r\n",
        "    for line in file:\r\n",
        "        number.append(int(line)) #line으로 읽어서, 정수처리하기 \r\n",
        "    print('숫자 합 : {}'.format(sum(number)))\r\n",
        "    print('숫자 평균 : {}'.format(sum(number) / len(number)))"
      ],
      "execution_count": 31,
      "outputs": [
        {
          "output_type": "stream",
          "text": [
            "숫자 합 : 940\n",
            "숫자 평균 : 117.5\n"
          ],
          "name": "stdout"
        }
      ]
    },
    {
      "cell_type": "code",
      "metadata": {
        "id": "eNmoqmuUjjm6"
      },
      "source": [
        "#txt파일에 쓰기 \r\n",
        "#빈 txt파일에 안녕하세요 입력하기\r\n",
        "with open('/content/drive/MyDrive/test2.txt', 'w') as file:\r\n",
        "    file.write('안녕하세요')"
      ],
      "execution_count": 33,
      "outputs": []
    },
    {
      "cell_type": "code",
      "metadata": {
        "colab": {
          "base_uri": "https://localhost:8080/"
        },
        "id": "IlhnTdg5kSI4",
        "outputId": "f5e3a166-e5ca-48b4-bdc7-aa668a196a51"
      },
      "source": [
        "#입력되었는지 확인하기\r\n",
        "file = open('/content/drive/MyDrive/test2.txt', 'r')\r\n",
        "read = file.read()\r\n",
        "print(read)"
      ],
      "execution_count": 35,
      "outputs": [
        {
          "output_type": "stream",
          "text": [
            "안녕하세요\n"
          ],
          "name": "stdout"
        }
      ]
    },
    {
      "cell_type": "code",
      "metadata": {
        "id": "ac_yyIcEkgIx"
      },
      "source": [
        "#'a'는 append로 텍스트 파일에 내용을 추가한다는 의미\r\n",
        "# 'a+'은 append & read를 의미\r\n",
        "with open('/content/drive/MyDrive/test2.txt', 'a') as file:\r\n",
        "    file.write('안녕히가세요')\r\n",
        "    file.close"
      ],
      "execution_count": 37,
      "outputs": []
    },
    {
      "cell_type": "code",
      "metadata": {
        "colab": {
          "base_uri": "https://localhost:8080/"
        },
        "id": "-t10EwfZlDAe",
        "outputId": "eb5ce487-0ea3-430f-95a4-55977dc43160"
      },
      "source": [
        "file = open('/content/drive/MyDrive/test2.txt', 'r')\r\n",
        "read = file.read()\r\n",
        "print(read)"
      ],
      "execution_count": 38,
      "outputs": [
        {
          "output_type": "stream",
          "text": [
            "안녕하세요안녕히가세요안녕히가세요\n"
          ],
          "name": "stdout"
        }
      ]
    }
  ]
}